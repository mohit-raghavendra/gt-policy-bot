{
 "cells": [
  {
   "cell_type": "code",
   "execution_count": 3,
   "metadata": {},
   "outputs": [
    {
     "name": "stdout",
     "output_type": "stream",
     "text": [
      "num chunks: 56\n",
      "max chunk size: 2732\n",
      "min chunk size: 256\n",
      "avg chunk size: 1116.1964285714287\n"
     ]
    }
   ],
   "source": [
    "import pandas as pd\n",
    "df = pd.read_csv('codeofconduct.csv')\n",
    "num_letters = []\n",
    "for i in range (0, len(df)):\n",
    "   num_letters.append(len(df.iloc[i]['evidence']))\n",
    "print(\"num chunks: \" + str(len(df)))\n",
    "max_count = max(num_letters)\n",
    "min_count = min(num_letters)\n",
    "avg_count = sum(num_letters) / len(df)\n",
    "print(\"max chunk size: \" + str(max_count))\n",
    "print(\"min chunk size: \" + str(min_count))\n",
    "print(\"avg chunk size: \" + str(avg_count))"
   ]
  }
 ],
 "metadata": {
  "kernelspec": {
   "display_name": "llamatest",
   "language": "python",
   "name": "python3"
  },
  "language_info": {
   "codemirror_mode": {
    "name": "ipython",
    "version": 3
   },
   "file_extension": ".py",
   "mimetype": "text/x-python",
   "name": "python",
   "nbconvert_exporter": "python",
   "pygments_lexer": "ipython3",
   "version": "3.7.12"
  }
 },
 "nbformat": 4,
 "nbformat_minor": 2
}
